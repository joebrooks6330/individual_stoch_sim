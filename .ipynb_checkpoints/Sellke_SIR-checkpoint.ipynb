{
 "cells": [
  {
   "cell_type": "code",
   "execution_count": 5,
   "id": "155e5693-769c-4a4a-b851-c06fd86f6844",
   "metadata": {},
   "outputs": [],
   "source": [
    "import numpy as np"
   ]
  },
  {
   "cell_type": "code",
   "execution_count": 7,
   "id": "4a0e0135-bb85-43d5-a3a5-3874d0f827a0",
   "metadata": {},
   "outputs": [],
   "source": [
    "m = 1\n",
    "n = 19\n",
    "infected_indices = [0,4]\n",
    "Q_unsorted = np.random.exponential(1,n)\n",
    "Q = np.sort(Q_unsorted)\n",
    "I = np.random.exponential(4,n+m)\n",
    "lamb = 0.1/n"
   ]
  },
  {
   "cell_type": "code",
   "execution_count": 9,
   "id": "e7f2adf0-72b1-4a1f-a6e1-2474cca312b8",
   "metadata": {},
   "outputs": [
    {
     "data": {
      "text/plain": [
       "[0]"
      ]
     },
     "execution_count": 9,
     "metadata": {},
     "output_type": "execute_result"
    }
   ],
   "source": [
    "[k for k in range(m,n+m)]\n",
    "[k for k in range(m)]"
   ]
  },
  {
   "cell_type": "code",
   "execution_count": 11,
   "id": "8fa4e031-ee49-47dc-ac50-c3a2be801f34",
   "metadata": {},
   "outputs": [
    {
     "name": "stdout",
     "output_type": "stream",
     "text": [
      "0\n",
      "1\n",
      "2\n",
      "3\n",
      "4\n"
     ]
    }
   ],
   "source": [
    "for i in range(10):\n",
    "    print(i)\n",
    "    if  i ==4:\n",
    "        break"
   ]
  },
  {
   "cell_type": "code",
   "execution_count": 113,
   "id": "d231a7b9-318c-4283-bb83-84d2a0bc4e98",
   "metadata": {},
   "outputs": [
    {
     "ename": "SyntaxError",
     "evalue": "invalid syntax (2802165588.py, line 11)",
     "output_type": "error",
     "traceback": [
      "\u001b[0;36m  Cell \u001b[0;32mIn[113], line 11\u001b[0;36m\u001b[0m\n\u001b[0;31m    if\u001b[0m\n\u001b[0m       ^\u001b[0m\n\u001b[0;31mSyntaxError\u001b[0m\u001b[0;31m:\u001b[0m invalid syntax\n"
     ]
    }
   ],
   "source": [
    "def SIRSelke(n,m,Q,I,lmb):\n",
    "    \"\"\"Function that runs a Sellke construction of a simple SIR model with a constant infectivity\"\"\"\n",
    "    fin = False\n",
    "    t_inf = [0]*(n+m)\n",
    "    t_recov = [0]*(n+m)\n",
    "    \n",
    "    susceptible_indices = [k for k in range(m,n+m)]\n",
    "    infected_indices = [k for k in range(m)]\n",
    "    recovered_indices = []\n",
    "    \n",
    "    for i in range(n):\n",
    "        A = sum([lmb*I[k]: k in infected_indices])\n",
    "        if Q[i] >A:\n",
    "            break\n",
    "            \n",
    "        else:\n",
    "            "
   ]
  }
 ],
 "metadata": {
  "kernelspec": {
   "display_name": "anaconda-panel-2023.05-py310",
   "language": "python",
   "name": "conda-env-anaconda-panel-2023.05-py310-py"
  },
  "language_info": {
   "codemirror_mode": {
    "name": "ipython",
    "version": 3
   },
   "file_extension": ".py",
   "mimetype": "text/x-python",
   "name": "python",
   "nbconvert_exporter": "python",
   "pygments_lexer": "ipython3",
   "version": "3.11.4"
  }
 },
 "nbformat": 4,
 "nbformat_minor": 5
}
