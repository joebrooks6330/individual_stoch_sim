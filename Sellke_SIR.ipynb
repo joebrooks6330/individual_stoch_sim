{
 "cells": [
  {
   "cell_type": "code",
   "execution_count": 63,
   "id": "155e5693-769c-4a4a-b851-c06fd86f6844",
   "metadata": {},
   "outputs": [],
   "source": [
    "import numpy as np\n",
    "import matplotlib.pyplot as plt"
   ]
  },
  {
   "cell_type": "code",
   "execution_count": 57,
   "id": "d231a7b9-318c-4283-bb83-84d2a0bc4e98",
   "metadata": {},
   "outputs": [],
   "source": [
    "def SIRSelke(n,m,Q,I,lmb):\n",
    "    \"\"\"Function that runs a Sellke construction of a simple SIR model with a constant infectivity\"\"\"\n",
    "    A = 0 \n",
    "    t = 0\n",
    "    \n",
    "    \n",
    "    t_inf = [0]*(n+m)\n",
    "    t_recov = [0]*(n+m)\n",
    "\n",
    "    susceptible_indices = [k for k in range(m,n+m)]\n",
    "    infected_indices = [k for k in range(m)]\n",
    "    recovered_indices = []\n",
    "    \n",
    "    active_tau = [np.inf]*(n+m)\n",
    "    \n",
    "    for k in infected_indices:\n",
    "        active_tau[k] = I[k]\n",
    "    \n",
    "\n",
    "    \n",
    "    next_recovery_tau = min(active_tau)\n",
    "    next_recovery_i = active_tau.index(next_recovery_tau)\n",
    "    \n",
    "    next_infection_i = m\n",
    "\n",
    "    while len(infected_indices)>0:\n",
    "        #Decide whether next event is a recovery or an infection\n",
    "        A_check = A + (lmb/n)*next_recovery_tau*len(infected_indices)\n",
    "        #input(A_check)\n",
    "        \n",
    "        if A_check<Q[next_infection_i]:\n",
    "            #print(\"Recovery\")\n",
    "            #Next event is recovery  \n",
    "            A += (lmb/n)*next_recovery_tau*len(infected_indices)\n",
    "            \n",
    "            t+= next_recovery_tau\n",
    "            t_recov[next_recovery_i] = t\n",
    "            active_tau = [tau-next_recovery_tau for tau in active_tau]\n",
    "            active_tau = [np.inf if tau ==0 else tau for tau in active_tau]\n",
    "                    \n",
    "            \n",
    "            recovered_indices.append(next_recovery_i)\n",
    "            infected_indices.remove(next_recovery_i)\n",
    "            \n",
    "            next_recovery_tau = min(active_tau)\n",
    "            next_recovery_i = active_tau.index(next_recovery_tau)\n",
    "            \n",
    "        else:\n",
    "            #print(\"Infection\")\n",
    "            #Next event is an infection\n",
    "            tau_of_inf = (Q[next_infection_i]-A)/(lmb*len(infected_indices))\n",
    "            A+= (lmb/n)*tau_of_inf*len(infected_indices)\n",
    "            \n",
    "            t+=tau_of_inf\n",
    "            \n",
    "            t_inf[next_infection_i] = t\n",
    "            active_tau = [tau-tau_of_inf for tau in active_tau]\n",
    "            active_tau[next_infection_i] = I[next_infection_i]\n",
    "            \n",
    "            next_recovery_tau = min(active_tau)\n",
    "            \n",
    "            infected_indices.append(next_infection_i)\n",
    "            susceptible_indices.remove(next_infection_i)\n",
    "            \n",
    "            next_infection_i += 1\n",
    "\n",
    "    return(recovered_indices)\n",
    "            "
   ]
  },
  {
   "cell_type": "code",
   "execution_count": 78,
   "id": "4a0e0135-bb85-43d5-a3a5-3874d0f827a0",
   "metadata": {},
   "outputs": [],
   "source": [
    "m = 1\n",
    "n = 50\n",
    "I = [1]*n\n",
    "#I = np.random.exponential(4,n+m)\n",
    "data = []\n",
    "lamb = 1.5\n",
    "for i in range(100000):\n",
    "    Q_unsorted = np.random.exponential(1,n)\n",
    "    Q = np.sort(Q_unsorted)\n",
    "    data.append(len(SIRSelke(n,m,Q,I,lamb)))\n"
   ]
  },
  {
   "cell_type": "code",
   "execution_count": 80,
   "id": "bc5a1616-f9ae-4e4a-a88f-57948b6270d2",
   "metadata": {},
   "outputs": [
    {
     "data": {
      "text/plain": [
       "(0.0, 0.1)"
      ]
     },
     "execution_count": 80,
     "metadata": {},
     "output_type": "execute_result"
    },
    {
     "data": {
      "image/png": "[encoded data removed]",
      "text/plain": [
       "<Figure size 640x480 with 1 Axes>"
      ]
     },
     "metadata": {},
     "output_type": "display_data"
    }
   ],
   "source": [
    "plt.hist(data,bins = np.linspace(0,50,51),density = True)\n",
    "plt.xlim(0,50)\n",
    "plt.ylim(0,0.1)"
   ]
  },
  {
   "cell_type": "code",
   "execution_count": null,
   "id": "777d1c9f-318b-4567-9511-8f5573620cc9",
   "metadata": {},
   "outputs": [],
   "source": []
  }
 ],
 "metadata": {
  "kernelspec": {
   "display_name": "Python 3 (ipykernel)",
   "language": "python",
   "name": "python3"
  },
  "language_info": {
   "codemirror_mode": {
    "name": "ipython",
    "version": 3
   },
   "file_extension": ".py",
   "mimetype": "text/x-python",
   "name": "python",
   "nbconvert_exporter": "python",
   "pygments_lexer": "ipython3",
   "version": "3.9.7"
  }
 },
 "nbformat": 4,
 "nbformat_minor": 5
}
