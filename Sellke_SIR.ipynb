{
 "cells": [
  {
   "cell_type": "code",
   "execution_count": 198,
   "id": "155e5693-769c-4a4a-b851-c06fd86f6844",
   "metadata": {},
   "outputs": [],
   "source": [
    "import numpy as np\n",
    "import matplotlib.pyplot as plt\n",
    "from tqdm import tqdm\n",
    "from bokeh.layouts import gridplot\n",
    "from bokeh.models import Range1d\n",
    "from bokeh.plotting import figure, show"
   ]
  },
  {
   "cell_type": "code",
   "execution_count": 179,
   "id": "d231a7b9-318c-4283-bb83-84d2a0bc4e98",
   "metadata": {},
   "outputs": [],
   "source": [
    "def SIRSelke(n,m,Q,I,lmb):\n",
    "    \"\"\"Function that runs a Sellke construction of a simple SIR model with a constant infectivity\"\"\"\n",
    "    A = 0 \n",
    "    t = 0\n",
    "    \n",
    "    \n",
    "    t_inf = [0]*(n+m)\n",
    "    t_recov = [0]*(n+m)\n",
    "\n",
    "    susceptible_indices = [k for k in range(m,n+m)]\n",
    "    infected_indices = [k for k in range(m)]\n",
    "    recovered_indices = []\n",
    "    \n",
    "    active_tau = [np.inf]*(n+m)\n",
    "    \n",
    "    for k in infected_indices:\n",
    "        active_tau[k] = I[k]\n",
    "    \n",
    "\n",
    "    \n",
    "    next_recovery_tau = min(active_tau)\n",
    "    next_recovery_i = active_tau.index(next_recovery_tau)\n",
    "    \n",
    "    next_infection_i = m\n",
    "\n",
    "    while len(infected_indices)>0:\n",
    "        #Decide whether next event is a recovery or an infection\n",
    "        A_check = A + (lmb/n)*next_recovery_tau*len(infected_indices)\n",
    "        \n",
    "        if A_check<Q[next_infection_i-m]:\n",
    "            #print(\"Recovery\")\n",
    "            #Next event is recovery  \n",
    "            A += (lmb/n)*next_recovery_tau*len(infected_indices)\n",
    "            \n",
    "            t+= next_recovery_tau\n",
    "            t_recov[next_recovery_i] = t\n",
    "            active_tau = [tau-next_recovery_tau for tau in active_tau]\n",
    "            active_tau = [np.inf if tau ==0 else tau for tau in active_tau]\n",
    "                    \n",
    "            \n",
    "            recovered_indices.append(next_recovery_i)\n",
    "            infected_indices.remove(next_recovery_i)\n",
    "            \n",
    "            next_recovery_tau = min(active_tau)\n",
    "            next_recovery_i = active_tau.index(next_recovery_tau)\n",
    "            \n",
    "        else:\n",
    "            #print(\"Infection\")\n",
    "            #Next event is an infection\n",
    "            tau_of_inf = (Q[next_infection_i-m]-A)/((lmb/n)*len(infected_indices))\n",
    "            A+= (lmb/n)*tau_of_inf*len(infected_indices)\n",
    "            \n",
    "            t+=tau_of_inf\n",
    "            \n",
    "            t_inf[next_infection_i] = t\n",
    "            active_tau = [tau-tau_of_inf for tau in active_tau]\n",
    "            active_tau[next_infection_i] = I[next_infection_i]\n",
    "            \n",
    "            next_recovery_tau = min(active_tau)\n",
    "            \n",
    "            infected_indices.append(next_infection_i)\n",
    "            susceptible_indices.remove(next_infection_i)\n",
    "            \n",
    "            next_infection_i += 1\n",
    "            \n",
    "            if next_infection_i\n",
    "\n",
    "    return(recovered_indices)\n",
    "            "
   ]
  },
  {
   "cell_type": "code",
   "execution_count": 180,
   "id": "b6b0e0b7-05ae-44d5-9b44-b37f0b4b00aa",
   "metadata": {},
   "outputs": [
    {
     "data": {
      "text/plain": [
       "0.009885159242020434"
      ]
     },
     "execution_count": 180,
     "metadata": {},
     "output_type": "execute_result"
    }
   ],
   "source": [
    "Q_unsorted = np.random.exponential(1,n)\n",
    "Q = np.sort(Q_unsorted)\n",
    "Q[0]"
   ]
  },
  {
   "cell_type": "code",
   "execution_count": 181,
   "id": "9a6af44b-cf07-45b4-aa0a-0949240fc08d",
   "metadata": {},
   "outputs": [
    {
     "data": {
      "text/plain": [
       "[0, 1, 2, 3, 4, 5, 6, 7, 8, 9, 10, 11, 12, 13, 14, 15, 16, 17, 18]"
      ]
     },
     "execution_count": 181,
     "metadata": {},
     "output_type": "execute_result"
    }
   ],
   "source": [
    "SIRSelke(n,m,Q,I,lamb)"
   ]
  },
  {
   "cell_type": "code",
   "execution_count": 206,
   "id": "6066b735-09f6-4708-aa6c-e5a296be9bed",
   "metadata": {},
   "outputs": [],
   "source": [
    "Pn = [0.22313016014842982,0.07812092032156226,0.041851315336848494,0.027046526858429898,0.019516664670509776,0.015179028588497123,0.012480381609877328,0.0107200755796939,0.009543566870151426,0.008756232503306594,0.00824484362089832,0.00794090235588149,0.007802109849281674,0.00780233355634774,0.007926142411960865,0.00816492653175939,0.008515796063325462,0.008978526390125932,0.009556666809744652,0.010254340481022153,0.011077628033144438,0.012030504060036196,0.0131210057295654,0.014340987404124844,0.015705903935287868,0.01717433219559228,0.018774051087102117,0.02041206530124598,0.022117723154696817,0.02374752909751382,0.025302808106481,0.026614168190601695,0.027628233294395177,0.028189711678697493,0.028202781636006535,0.02757347901992907,0.026230748254855718,0.024195172346066662,0.021509382366740354,0.01834233348406908,0.01488707440131759,0.011416065869428893,0.008184708306199315,0.005421732520758719,0.003266153264113607,0.001753437118265113,0.0008156604164100056,0.00031569383558495727,9.532467349553314e-05,1.996496779096263e-05,0]"
   ]
  },
  {
   "cell_type": "code",
   "execution_count": 186,
   "id": "4a0e0135-bb85-43d5-a3a5-3874d0f827a0",
   "metadata": {},
   "outputs": [
    {
     "name": "stderr",
     "output_type": "stream",
     "text": [
      "100%|██████████| 100000/100000 [02:12<00:00, 754.23it/s]\n"
     ]
    }
   ],
   "source": [
    "m = 1\n",
    "n = 50\n",
    "I = [1]*n\n",
    "#I = np.random.exponential(4,n+m)\n",
    "data = []\n",
    "lamb = 1.5\n",
    "for i in tqdm(range(100000)):\n",
    "    Q_unsorted = np.random.exponential(1,n)\n",
    "    Q = np.sort(Q_unsorted)\n",
    "    data.append(len(SIRSelke(n,m,Q,I,lamb)))\n"
   ]
  },
  {
   "cell_type": "code",
   "execution_count": 213,
   "id": "bc5a1616-f9ae-4e4a-a88f-57948b6270d2",
   "metadata": {},
   "outputs": [
    {
     "name": "stderr",
     "output_type": "stream",
     "text": [
      "BokehUserWarning: ColumnDataSource's columns must be of the same length. Current lengths: ('x', 50), ('y', 51)\n"
     ]
    },
    {
     "ename": "NameError",
     "evalue": "name 'save' is not defined",
     "output_type": "error",
     "traceback": [
      "\u001b[1;31m---------------------------------------------------------------------------\u001b[0m",
      "\u001b[1;31mNameError\u001b[0m                                 Traceback (most recent call last)",
      "\u001b[1;32m~\\AppData\\Local\\Temp\\ipykernel_6864\\907708126.py\u001b[0m in \u001b[0;36m<module>\u001b[1;34m\u001b[0m\n\u001b[0;32m     13\u001b[0m \u001b[1;33m\u001b[0m\u001b[0m\n\u001b[0;32m     14\u001b[0m \u001b[0mshow\u001b[0m\u001b[1;33m(\u001b[0m\u001b[0mp\u001b[0m\u001b[1;33m)\u001b[0m\u001b[1;33m\u001b[0m\u001b[1;33m\u001b[0m\u001b[0m\n\u001b[1;32m---> 15\u001b[1;33m \u001b[0msave\u001b[0m\u001b[1;33m(\u001b[0m\u001b[0mp\u001b[0m\u001b[1;33m)\u001b[0m\u001b[1;33m\u001b[0m\u001b[1;33m\u001b[0m\u001b[0m\n\u001b[0m",
      "\u001b[1;31mNameError\u001b[0m: name 'save' is not defined"
     ]
    }
   ],
   "source": [
    "p = figure(width=670, height=400, toolbar_location=None,\n",
    "           title=\"Sellke Construction of SIR model with constant infectivity and infectious period 1\")\n",
    "# Histogram\n",
    "bins = np.linspace(0, 50, 51)\n",
    "hist, edges = np.histogram(data, density=True, bins=bins)\n",
    "p.quad(top=hist, bottom=0, left=edges[:-1], right=edges[1:],\n",
    "         fill_color=\"skyblue\", line_color=\"white\",\n",
    "         legend_label=\"Simulated data\")\n",
    "p.circle(np.linspace(1.5, 50.5, 50), Pn, size=5, color=\"red\", alpha=1,\n",
    "         legend_label=\"Exact Distribution\")\n",
    "p.x_range = Range1d(0, 50)\n",
    "p.y_range = Range1d(0, 0.25)\n",
    "\n",
    "show(p)\n",
    "save(p)"
   ]
  },
  {
   "cell_type": "code",
   "execution_count": null,
   "id": "777d1c9f-318b-4567-9511-8f5573620cc9",
   "metadata": {},
   "outputs": [],
   "source": []
  }
 ],
 "metadata": {
  "kernelspec": {
   "display_name": "Python 3 (ipykernel)",
   "language": "python",
   "name": "python3"
  },
  "language_info": {
   "codemirror_mode": {
    "name": "ipython",
    "version": 3
   },
   "file_extension": ".py",
   "mimetype": "text/x-python",
   "name": "python",
   "nbconvert_exporter": "python",
   "pygments_lexer": "ipython3",
   "version": "3.9.7"
  }
 },
 "nbformat": 4,
 "nbformat_minor": 5
}
