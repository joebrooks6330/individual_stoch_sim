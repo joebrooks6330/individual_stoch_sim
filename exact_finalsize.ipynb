{
 "cells": [
  {
   "cell_type": "markdown",
   "id": "f6b95f4a-634e-4bf2-bf44-b40e20a2f91f",
   "metadata": {
    "tags": []
   },
   "source": [
    "# Solving explicit equations for the final size probabilities for the standard SIR epidemic\n",
    "With constant infectious period "
   ]
  },
  {
   "cell_type": "code",
   "execution_count": 4,
   "id": "e3d42b9a-13fb-4639-98dc-4cae0dc529d6",
   "metadata": {},
   "outputs": [],
   "source": [
    "from math import comb, exp"
   ]
  },
  {
   "cell_type": "code",
   "execution_count": 24,
   "id": "977f5e02-6236-4ee1-9524-7c611faf5853",
   "metadata": {},
   "outputs": [
    {
     "data": {
      "text/plain": [
       "1"
      ]
     },
     "execution_count": 24,
     "metadata": {},
     "output_type": "execute_result"
    }
   ],
   "source": []
  },
  {
   "cell_type": "code",
   "execution_count": 8,
   "id": "631a4a70-3098-4672-8042-153fe798a59f",
   "metadata": {},
   "outputs": [],
   "source": [
    "n = 50\n",
    "m = 1\n",
    "lamb = 1.5\n",
    "I = 1"
   ]
  },
  {
   "cell_type": "code",
   "execution_count": 45,
   "id": "13e76208-483e-48bb-80ab-548989fee1e4",
   "metadata": {},
   "outputs": [],
   "source": [
    "Pn = [0]*(n+1)\n",
    "Pn[0] = exp(-lamb*I*m)\n",
    "for l in range(1,n):\n",
    "    #input(\"l=\"+ str(l))\n",
    "    P = comb(n,l)*exp(-lamb*(n-l)*I*(l+m)/n)\n",
    "    for k in range(l):\n",
    "        #print(k)\n",
    "        P = P-comb(n-k,l-k)*Pn[k]*exp((lamb*(n-l)*I*(k-l))/n)\n",
    "    P=P\n",
    "    Pn[l] = P"
   ]
  },
  {
   "cell_type": "code",
   "execution_count": 48,
   "id": "a4fa03df-cadf-45ff-a939-f072ad4c476f",
   "metadata": {},
   "outputs": [
    {
     "data": {
      "text/plain": [
       "[0.22313016014842982,\n",
       " 0.07812092032156226,\n",
       " 0.041851315336848494,\n",
       " 0.027046526858429898,\n",
       " 0.019516664670509776,\n",
       " 0.015179028588497123,\n",
       " 0.012480381609877328,\n",
       " 0.0107200755796939,\n",
       " 0.009543566870151426,\n",
       " 0.008756232503306594,\n",
       " 0.00824484362089832,\n",
       " 0.00794090235588149,\n",
       " 0.007802109849281674,\n",
       " 0.00780233355634774,\n",
       " 0.007926142411960865,\n",
       " 0.00816492653175939,\n",
       " 0.008515796063325462,\n",
       " 0.008978526390125932,\n",
       " 0.009556666809744652,\n",
       " 0.010254340481022153,\n",
       " 0.011077628033144438,\n",
       " 0.012030504060036196,\n",
       " 0.0131210057295654,\n",
       " 0.014340987404124844,\n",
       " 0.015705903935287868,\n",
       " 0.01717433219559228,\n",
       " 0.018774051087102117,\n",
       " 0.02041206530124598,\n",
       " 0.022117723154696817,\n",
       " 0.02374752909751382,\n",
       " 0.025302808106481,\n",
       " 0.026614168190601695,\n",
       " 0.027628233294395177,\n",
       " 0.028189711678697493,\n",
       " 0.028202781636006535,\n",
       " 0.02757347901992907,\n",
       " 0.026230748254855718,\n",
       " 0.024195172346066662,\n",
       " 0.021509382366740354,\n",
       " 0.01834233348406908,\n",
       " 0.01488707440131759,\n",
       " 0.011416065869428893,\n",
       " 0.008184708306199315,\n",
       " 0.005421732520758719,\n",
       " 0.003266153264113607,\n",
       " 0.001753437118265113,\n",
       " 0.0008156604164100056,\n",
       " 0.00031569383558495727,\n",
       " 9.532467349553314e-05,\n",
       " 1.996496779096263e-05,\n",
       " 0]"
      ]
     },
     "execution_count": 48,
     "metadata": {},
     "output_type": "execute_result"
    }
   ],
   "source": [
    "Pn"
   ]
  },
  {
   "cell_type": "code",
   "execution_count": 18,
   "id": "2f054553-2e79-4c4e-9d7b-8a85d868b61f",
   "metadata": {},
   "outputs": [
    {
     "ename": "TypeError",
     "evalue": "unsupported operand type(s) for ^: 'float' and 'int'",
     "output_type": "error",
     "traceback": [
      "\u001b[1;31m---------------------------------------------------------------------------\u001b[0m",
      "\u001b[1;31mTypeError\u001b[0m                                 Traceback (most recent call last)",
      "\u001b[1;32m~\\AppData\\Local\\Temp\\ipykernel_28472\\3140629050.py\u001b[0m in \u001b[0;36m<module>\u001b[1;34m\u001b[0m\n\u001b[1;32m----> 1\u001b[1;33m \u001b[0mexp\u001b[0m\u001b[1;33m(\u001b[0m\u001b[1;33m-\u001b[0m\u001b[1;36m51\u001b[0m\u001b[1;33m)\u001b[0m\u001b[1;33m^\u001b[0m\u001b[1;33m(\u001b[0m\u001b[0mk\u001b[0m\u001b[1;33m+\u001b[0m\u001b[0mm\u001b[0m\u001b[1;33m)\u001b[0m\u001b[1;33m\u001b[0m\u001b[1;33m\u001b[0m\u001b[0m\n\u001b[0m",
      "\u001b[1;31mTypeError\u001b[0m: unsupported operand type(s) for ^: 'float' and 'int'"
     ]
    }
   ],
   "source": [
    "exp(-51)^(k+m)"
   ]
  },
  {
   "cell_type": "code",
   "execution_count": 15,
   "id": "2c25e123-8987-480e-940f-2aa08e2a3308",
   "metadata": {},
   "outputs": [
    {
     "data": {
      "text/plain": [
       "51.0"
      ]
     },
     "execution_count": 15,
     "metadata": {},
     "output_type": "execute_result"
    }
   ],
   "source": [
    "1.5*(50-l)"
   ]
  }
 ],
 "metadata": {
  "kernelspec": {
   "display_name": "Python 3 (ipykernel)",
   "language": "python",
   "name": "python3"
  },
  "language_info": {
   "codemirror_mode": {
    "name": "ipython",
    "version": 3
   },
   "file_extension": ".py",
   "mimetype": "text/x-python",
   "name": "python",
   "nbconvert_exporter": "python",
   "pygments_lexer": "ipython3",
   "version": "3.9.7"
  }
 },
 "nbformat": 4,
 "nbformat_minor": 5
}
